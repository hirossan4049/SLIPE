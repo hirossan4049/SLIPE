{
 "cells": [
  {
   "cell_type": "code",
   "execution_count": 47,
   "metadata": {
    "scrolled": false
   },
   "outputs": [
    {
     "name": "stdout",
     "output_type": "stream",
     "text": [
      "hello display\n",
      "y   y   Y   y   y\n",
      "*   *   *   *   *\n",
      "*   *   W   *   *\n",
      "*   *   *   *   *\n",
      "x   x   X   x   x\n",
      "W\n"
     ]
    }
   ],
   "source": [
    "# 5 * 5\n",
    "\n",
    "# Rule\n",
    "# \n",
    "\n",
    "from pprint import pprint\n",
    "a = '*'\n",
    "y = 'y'\n",
    "x = 'x'\n",
    "Y = 'Y'\n",
    "X = 'X'\n",
    "W = 'W'\n",
    "\n",
    "class SLIPE():\n",
    "    def __init__(self):\n",
    "        self.board = [\n",
    "            [y,y,Y,y,y],\n",
    "            [a,a,a,a,a],\n",
    "             [a,a,W,a,a],\n",
    "            [a,a,a,a,a],\n",
    "            [x,x,X,x,x]\n",
    "        ]\n",
    "    \n",
    "    def display(self):\n",
    "        print('hello display')\n",
    "        for lens in self.board:\n",
    "            print(\"   \".join(lens))\n",
    "            \n",
    "    def move_point(self,x,y):\n",
    "        # 周辺に開いてるのあるか確認\n",
    "        # 上\n",
    "        print(self.board[y - 1][x])\n",
    "    \n",
    "game = SLIPE()\n",
    "game.display()\n",
    "game.move_point(2,3)"
   ]
  },
  {
   "cell_type": "code",
   "execution_count": null,
   "metadata": {},
   "outputs": [],
   "source": []
  }
 ],
 "metadata": {
  "kernelspec": {
   "display_name": "Python 3",
   "language": "python",
   "name": "python3"
  },
  "language_info": {
   "codemirror_mode": {
    "name": "ipython",
    "version": 3
   },
   "file_extension": ".py",
   "mimetype": "text/x-python",
   "name": "python",
   "nbconvert_exporter": "python",
   "pygments_lexer": "ipython3",
   "version": "3.7.7"
  }
 },
 "nbformat": 4,
 "nbformat_minor": 4
}
