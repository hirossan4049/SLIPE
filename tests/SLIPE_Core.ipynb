{
 "cells": [
  {
   "cell_type": "code",
   "execution_count": 127,
   "metadata": {},
   "outputs": [
    {
     "name": "stdout",
     "output_type": "stream",
     "text": [
      "=======BOARD=======\n",
      "    0   1   2   3   4\n",
      "0  y   y   Y   y   y\n",
      "1  *   *   *   *   *\n",
      "2  *   *   *   *   *\n",
      "3  *   *   *   *   *\n",
      "4  x   x   X   x   x\n",
      "===================\n",
      "gmp args : 2 3\n",
      "{'up': True, 'down': False, 'left': True, 'right': True}\n",
      "up: *\n",
      "down: X\n",
      "*\n",
      "*\n"
     ]
    }
   ],
   "source": [
    "# 5 * 5\n",
    "\n",
    "# Rule\n",
    "# \n",
    "\n",
    "from pprint import pprint\n",
    "a = '*'\n",
    "y = 'y'\n",
    "x = 'x'\n",
    "Y = 'Y'\n",
    "X = 'X'\n",
    "W = '*'\n",
    "\n",
    "class SLIPE():\n",
    "    def __init__(self):\n",
    "        self.board = [\n",
    "            [y,y,Y,y,y],\n",
    "            [a,a,a,a,a],\n",
    "             [a,a,W,a,a],\n",
    "            [a,a,a,a,a],\n",
    "            [x,x,X,x,x]\n",
    "        ]\n",
    "    \n",
    "    def reset(self):\n",
    "        pass\n",
    "    \n",
    "    def display(self):\n",
    "        print(\"=======BOARD=======\")\n",
    "        print(\"    0   1   2   3   4\")\n",
    "        for index,lens in enumerate(self.board):\n",
    "            print(f\"{index}  \" + \"   \".join(lens))\n",
    "        print(\"===================\")\n",
    "\n",
    "            \n",
    "    def get_move_point(self,x,y):\n",
    "        # 周辺に開いてるのあるか確認\n",
    "        # 上\n",
    "        print('gmp args :',x,y)\n",
    "        up = down = left = right =  'E'\n",
    "        try:\n",
    "            up = self.board[y-1][x]\n",
    "        except IndexError:\n",
    "            pass\n",
    "        try:\n",
    "            down = self.board[y+1][x]\n",
    "        except IndexError:\n",
    "            pass\n",
    "        try:\n",
    "            left = self.board[y][x - 1]\n",
    "        except IndexError:\n",
    "            pass\n",
    "        try:\n",
    "            right = self.board[y][x + 1]\n",
    "        except IndexError:\n",
    "            pass\n",
    "        \n",
    "        isMoveUDLR = {'up':False,'down':False,'left':False,'right':False}\n",
    "        \n",
    "        isMoveUDLR['up'] = True if up == \"*\" else False\n",
    "        isMoveUDLR['down'] = True if down == \"*\" else False\n",
    "        isMoveUDLR['left'] = True if left == \"*\" else False\n",
    "        isMoveUDLR['right'] = True if right == \"*\" else False\n",
    "\n",
    "\n",
    "        print(isMoveUDLR)\n",
    "        print(f'up: {up}')\n",
    "        print(f'down: {down}')\n",
    "        print(left)\n",
    "        print(right)\n",
    "        \n",
    "        \n",
    "    \n",
    "game = SLIPE()\n",
    "game.display()\n",
    "game.get_move_point(2,3)"
   ]
  },
  {
   "cell_type": "code",
   "execution_count": 76,
   "metadata": {},
   "outputs": [
    {
     "data": {
      "text/plain": [
       "'test'"
      ]
     },
     "execution_count": 76,
     "metadata": {},
     "output_type": "execute_result"
    }
   ],
   "source": []
  },
  {
   "cell_type": "code",
   "execution_count": null,
   "metadata": {},
   "outputs": [],
   "source": []
  }
 ],
 "metadata": {
  "kernelspec": {
   "display_name": "Python 3",
   "language": "python",
   "name": "python3"
  },
  "language_info": {
   "codemirror_mode": {
    "name": "ipython",
    "version": 3
   },
   "file_extension": ".py",
   "mimetype": "text/x-python",
   "name": "python",
   "nbconvert_exporter": "python",
   "pygments_lexer": "ipython3",
   "version": "3.7.7"
  }
 },
 "nbformat": 4,
 "nbformat_minor": 4
}
